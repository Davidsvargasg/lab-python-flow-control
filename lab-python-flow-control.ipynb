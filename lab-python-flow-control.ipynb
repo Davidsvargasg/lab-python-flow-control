{
 "cells": [
  {
   "cell_type": "markdown",
   "id": "d3bfc191-8885-42ee-b0a0-bbab867c6f9f",
   "metadata": {
    "tags": []
   },
   "source": [
    "# Lab | Flow Control"
   ]
  },
  {
   "cell_type": "markdown",
   "id": "3851fcd1-cf98-4653-9c89-e003b7ec9400",
   "metadata": {},
   "source": [
    "## Exercise: Managing Customer Orders Optimized\n",
    "\n",
    "In the last lab, you were starting an online store that sells various products. To ensure smooth operations, you developed a program that manages customer orders and inventory.\n",
    "\n",
    "You did so without using flow control. Let's go a step further and improve this code.\n",
    "\n",
    "Follow the steps below to complete the exercise:\n",
    "\n",
    "1. Look at your code from the lab data structures, and improve repeated code with loops.\n",
    "\n",
    "2. Instead of asking the user to input the name of three products that a customer wants to order, do the following:\n",
    "    \n",
    "    a. Prompt the user to enter the name of a product that a customer wants to order.\n",
    "    \n",
    "    b. Add the product name to the \"customer_orders\" set.\n",
    "    \n",
    "    c. Ask the user if they want to add another product (yes/no).\n",
    "    \n",
    "    d. Continue the loop until the user does not want to add another product.\n",
    "\n",
    "3. Instead of updating the inventory by subtracting 1 from the quantity of each product, only do it for  the products that were ordered (those in \"customer_orders\")."
   ]
  },
  {
   "cell_type": "code",
   "execution_count": 23,
   "id": "c24a462d-2d61-41dd-be66-52d0490e9062",
   "metadata": {},
   "outputs": [
    {
     "name": "stdin",
     "output_type": "stream",
     "text": [
      "enter quantity 3\n",
      "enter quantity 4\n",
      "enter quantity 6\n",
      "enter quantity 7\n",
      "enter quantity 3\n"
     ]
    },
    {
     "data": {
      "text/plain": [
       "{'t-shirt': 3, 'mug': 4, 'hat': 6, 'book': 7, 'keychain': 3}"
      ]
     },
     "execution_count": 23,
     "metadata": {},
     "output_type": "execute_result"
    }
   ],
   "source": [
    "# 1.Look at your code from the lab data structures, and improve repeated code with loops.\n",
    "\n",
    "products = [\"t-shirt\", \"mug\", \"hat\", \"book\", \"keychain\"]\n",
    "\n",
    "inventory = {}\n",
    "\n",
    "for product_element in products:\n",
    "    inventory[product_element] = int (input(\"enter quantity\"))\n",
    "\n",
    "inventory"
   ]
  },
  {
   "cell_type": "code",
   "execution_count": 27,
   "id": "189cf5a6-70af-4475-91fc-7eaa4c185487",
   "metadata": {},
   "outputs": [
    {
     "data": {
      "text/plain": [
       "3"
      ]
     },
     "execution_count": 27,
     "metadata": {},
     "output_type": "execute_result"
    }
   ],
   "source": [
    "inventory [\"t-shirt\"]"
   ]
  },
  {
   "cell_type": "code",
   "execution_count": 65,
   "id": "ef815f2a-3725-4981-b3b2-8a2e3981a874",
   "metadata": {},
   "outputs": [
    {
     "name": "stdin",
     "output_type": "stream",
     "text": [
      "Do you want to add a product? yes\n",
      "enter a product book\n",
      "Do you want to add a product? yes\n",
      "enter a product keychain\n",
      "Do you want to add a product? no\n"
     ]
    },
    {
     "data": {
      "text/plain": [
       "{'book', 'keychain'}"
      ]
     },
     "execution_count": 65,
     "metadata": {},
     "output_type": "execute_result"
    }
   ],
   "source": [
    "# a. Prompt the user to enter the name of a product that a customer wants to order.\n",
    "# b. Add the product name to the \"customer_orders\" set.\n",
    "# c. Ask the user if they want to add another product (yes/no).\n",
    "# d. Continue the loop until the user does not want to add another product.\n",
    "\n",
    "customer_orders = set()\n",
    "\n",
    "while True:\n",
    "    answer = input (\"Do you want to add a product?\")\n",
    "    if answer == \"no\":\n",
    "        break\n",
    "    customer_orders.add (input(\"enter a product\"))\n",
    "\n",
    "customer_orders\n",
    "\n"
   ]
  },
  {
   "cell_type": "code",
   "execution_count": 75,
   "id": "d78ebc18-1dd6-4561-bc35-1ec82f4d1581",
   "metadata": {},
   "outputs": [
    {
     "name": "stdin",
     "output_type": "stream",
     "text": [
      "Do you want to add a product? yes\n",
      "enter a product book\n",
      "Do you want to add a product? yes\n",
      "enter a product mug\n",
      "Do you want to add a product? yes\n",
      "enter a product keychain\n",
      "Do you want to add a product? no\n"
     ]
    },
    {
     "data": {
      "text/plain": [
       "{'book', 'keychain', 'mug'}"
      ]
     },
     "execution_count": 75,
     "metadata": {},
     "output_type": "execute_result"
    }
   ],
   "source": [
    "# a. Prompt the user to enter the name of a product that a customer wants to order.\n",
    "# b. Add the product name to the \"customer_orders\" set.\n",
    "# c. Ask the user if they want to add another product (yes/no).\n",
    "# d. Continue the loop until the user does not want to add another product.\n",
    "\n",
    "customer_orders = set()\n",
    "\n",
    "while True:\n",
    "    answer = input (\"Do you want to add a product?\")\n",
    "    if answer == \"no\":\n",
    "        break\n",
    "    customer_orders.add (input(\"enter a product\"))\n",
    "\n",
    "customer_orders\n",
    "\n"
   ]
  },
  {
   "cell_type": "code",
   "execution_count": null,
   "id": "d2131847-8009-40e6-a244-6bf607db4a00",
   "metadata": {},
   "outputs": [],
   "source": [
    "# 3.Instead of updating the inventory by subtracting 1 from the quantity of each product, only do it for  the products that were ordered \n",
    "#(those in \"customer_orders\")."
   ]
  },
  {
   "cell_type": "code",
   "execution_count": 77,
   "id": "720f8c42-3fc4-4ae2-b17f-b4186f003fd4",
   "metadata": {},
   "outputs": [
    {
     "data": {
      "text/plain": [
       "{'t-shirt': 3, 'mug': 4, 'hat': 6, 'book': 7, 'keychain': 3}"
      ]
     },
     "execution_count": 77,
     "metadata": {},
     "output_type": "execute_result"
    }
   ],
   "source": [
    "inventory"
   ]
  },
  {
   "cell_type": "code",
   "execution_count": 87,
   "id": "5f5dbf4f-1933-4fb1-a67d-6f41ece7cffb",
   "metadata": {},
   "outputs": [
    {
     "name": "stdout",
     "output_type": "stream",
     "text": [
      "{'t-shirt': 3, 'mug': 2, 'hat': 6, 'book': 5, 'keychain': 1}\n"
     ]
    }
   ],
   "source": [
    "for p in customer_orders:\n",
    "    if p in inventory:\n",
    "        inventory[p] -= 1\n",
    "\n",
    "print (inventory)"
   ]
  },
  {
   "cell_type": "code",
   "execution_count": null,
   "id": "eb151fc2-d591-4019-b946-a84b62345ad6",
   "metadata": {},
   "outputs": [],
   "source": [
    "#ya habia restado una vez, por eso se restaron dos"
   ]
  }
 ],
 "metadata": {
  "kernelspec": {
   "display_name": "Python 3 (ipykernel)",
   "language": "python",
   "name": "python3"
  },
  "language_info": {
   "codemirror_mode": {
    "name": "ipython",
    "version": 3
   },
   "file_extension": ".py",
   "mimetype": "text/x-python",
   "name": "python",
   "nbconvert_exporter": "python",
   "pygments_lexer": "ipython3",
   "version": "3.11.7"
  }
 },
 "nbformat": 4,
 "nbformat_minor": 5
}
